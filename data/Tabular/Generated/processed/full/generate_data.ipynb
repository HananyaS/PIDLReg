{
 "cells": [
  {
   "cell_type": "code",
   "execution_count": 16,
   "outputs": [],
   "source": [
    "# rand 1000 samples with 10 features that are distributed with standard normal distribution\n",
    "\n",
    "N = 200\n",
    "F = 10\n",
    "X_0 = np.random.randn(N,F)\n",
    "X_1 = np.random.randn(N,F) + .1\n",
    "\n",
    "X = np.vstack((X_0,X_1))\n",
    "y = (((X ** 2).sum(axis=1) - .5 * F) > 0).astype(int)"
   ],
   "metadata": {
    "collapsed": false,
    "ExecuteTime": {
     "end_time": "2023-07-19T11:58:59.923454028Z",
     "start_time": "2023-07-19T11:58:59.920755944Z"
    }
   }
  },
  {
   "cell_type": "code",
   "execution_count": 1,
   "outputs": [],
   "source": [
    "import pandas as pd\n",
    "import numpy as np\n",
    "\n",
    "from sklearn.model_selection import train_test_split"
   ],
   "metadata": {
    "collapsed": false,
    "ExecuteTime": {
     "start_time": "2023-07-19T11:10:59.565455453Z"
    }
   }
  },
  {
   "cell_type": "code",
   "execution_count": 17,
   "outputs": [
    {
     "data": {
      "text/plain": "          0         1         2         3         4         5         6  \\\n0 -0.513345 -0.488474 -1.044773  0.181018  0.541069  0.892146 -0.418831   \n1  0.353968 -0.691734 -1.481977  1.262403 -1.350403 -0.015848 -2.703682   \n2  1.147177 -0.847289  0.442975 -0.998522  0.012914 -0.732098  0.366216   \n3  1.089360  0.778040 -1.523523 -0.769611 -0.040246 -0.778620 -0.446209   \n4  0.363821  0.101933  1.579958 -0.436161 -0.853899  1.664477 -0.935909   \n\n          7         8         9  class  \n0 -1.182263 -0.230127 -0.171593      0  \n1  0.522031  1.261994  0.510250      1  \n2  0.144663  1.637403  2.394339      1  \n3  1.220079  1.771852 -0.042862      1  \n4 -1.485915  1.840572 -1.643885      1  ",
      "text/html": "<div>\n<style scoped>\n    .dataframe tbody tr th:only-of-type {\n        vertical-align: middle;\n    }\n\n    .dataframe tbody tr th {\n        vertical-align: top;\n    }\n\n    .dataframe thead th {\n        text-align: right;\n    }\n</style>\n<table border=\"1\" class=\"dataframe\">\n  <thead>\n    <tr style=\"text-align: right;\">\n      <th></th>\n      <th>0</th>\n      <th>1</th>\n      <th>2</th>\n      <th>3</th>\n      <th>4</th>\n      <th>5</th>\n      <th>6</th>\n      <th>7</th>\n      <th>8</th>\n      <th>9</th>\n      <th>class</th>\n    </tr>\n  </thead>\n  <tbody>\n    <tr>\n      <th>0</th>\n      <td>-0.513345</td>\n      <td>-0.488474</td>\n      <td>-1.044773</td>\n      <td>0.181018</td>\n      <td>0.541069</td>\n      <td>0.892146</td>\n      <td>-0.418831</td>\n      <td>-1.182263</td>\n      <td>-0.230127</td>\n      <td>-0.171593</td>\n      <td>0</td>\n    </tr>\n    <tr>\n      <th>1</th>\n      <td>0.353968</td>\n      <td>-0.691734</td>\n      <td>-1.481977</td>\n      <td>1.262403</td>\n      <td>-1.350403</td>\n      <td>-0.015848</td>\n      <td>-2.703682</td>\n      <td>0.522031</td>\n      <td>1.261994</td>\n      <td>0.510250</td>\n      <td>1</td>\n    </tr>\n    <tr>\n      <th>2</th>\n      <td>1.147177</td>\n      <td>-0.847289</td>\n      <td>0.442975</td>\n      <td>-0.998522</td>\n      <td>0.012914</td>\n      <td>-0.732098</td>\n      <td>0.366216</td>\n      <td>0.144663</td>\n      <td>1.637403</td>\n      <td>2.394339</td>\n      <td>1</td>\n    </tr>\n    <tr>\n      <th>3</th>\n      <td>1.089360</td>\n      <td>0.778040</td>\n      <td>-1.523523</td>\n      <td>-0.769611</td>\n      <td>-0.040246</td>\n      <td>-0.778620</td>\n      <td>-0.446209</td>\n      <td>1.220079</td>\n      <td>1.771852</td>\n      <td>-0.042862</td>\n      <td>1</td>\n    </tr>\n    <tr>\n      <th>4</th>\n      <td>0.363821</td>\n      <td>0.101933</td>\n      <td>1.579958</td>\n      <td>-0.436161</td>\n      <td>-0.853899</td>\n      <td>1.664477</td>\n      <td>-0.935909</td>\n      <td>-1.485915</td>\n      <td>1.840572</td>\n      <td>-1.643885</td>\n      <td>1</td>\n    </tr>\n  </tbody>\n</table>\n</div>"
     },
     "execution_count": 17,
     "metadata": {},
     "output_type": "execute_result"
    }
   ],
   "source": [
    "df = pd.DataFrame(X)\n",
    "df['class'] = y\n",
    "\n",
    "# shuffle the data\n",
    "df = df.sample(frac=1).reset_index(drop=True)\n",
    "\n",
    "df.head()"
   ],
   "metadata": {
    "collapsed": false,
    "ExecuteTime": {
     "end_time": "2023-07-19T11:59:00.115880833Z",
     "start_time": "2023-07-19T11:59:00.106340995Z"
    }
   }
  },
  {
   "cell_type": "code",
   "execution_count": 18,
   "outputs": [
    {
     "data": {
      "text/plain": "((256, 11), (64, 11), (80, 11))"
     },
     "execution_count": 18,
     "metadata": {},
     "output_type": "execute_result"
    }
   ],
   "source": [
    "train, test = train_test_split(df, test_size=0.2, random_state=42)\n",
    "train, val = train_test_split(train, test_size=0.2, random_state=42)\n",
    "\n",
    "train.shape, val.shape, test.shape"
   ],
   "metadata": {
    "collapsed": false,
    "ExecuteTime": {
     "end_time": "2023-07-19T11:59:00.329638053Z",
     "start_time": "2023-07-19T11:59:00.321433778Z"
    }
   }
  },
  {
   "cell_type": "code",
   "execution_count": 18,
   "outputs": [],
   "source": [],
   "metadata": {
    "collapsed": false,
    "ExecuteTime": {
     "end_time": "2023-07-19T11:59:00.478509976Z",
     "start_time": "2023-07-19T11:59:00.471074131Z"
    }
   }
  },
  {
   "cell_type": "code",
   "execution_count": 19,
   "outputs": [],
   "source": [
    "train.to_csv('train.csv', index=False)\n",
    "val.to_csv('val.csv', index=False)\n",
    "test.to_csv('test.csv', index=False)"
   ],
   "metadata": {
    "collapsed": false,
    "ExecuteTime": {
     "end_time": "2023-07-19T11:59:00.667206443Z",
     "start_time": "2023-07-19T11:59:00.649810110Z"
    }
   }
  },
  {
   "cell_type": "code",
   "execution_count": 20,
   "outputs": [
    {
     "data": {
      "text/plain": "'/home/shachar/Desktop/PythonProjects/Lab/MVTrials/reg_model/data/Tabular/Generated/processed/full'"
     },
     "execution_count": 20,
     "metadata": {},
     "output_type": "execute_result"
    }
   ],
   "source": [
    "import os\n",
    "\n",
    "os.getcwd()"
   ],
   "metadata": {
    "collapsed": false,
    "ExecuteTime": {
     "end_time": "2023-07-19T11:59:01.158813866Z",
     "start_time": "2023-07-19T11:59:01.156814986Z"
    }
   }
  },
  {
   "cell_type": "code",
   "execution_count": null,
   "outputs": [],
   "source": [],
   "metadata": {
    "collapsed": false
   }
  }
 ],
 "metadata": {
  "kernelspec": {
   "display_name": "Python 3",
   "language": "python",
   "name": "python3"
  },
  "language_info": {
   "codemirror_mode": {
    "name": "ipython",
    "version": 2
   },
   "file_extension": ".py",
   "mimetype": "text/x-python",
   "name": "python",
   "nbconvert_exporter": "python",
   "pygments_lexer": "ipython2",
   "version": "2.7.6"
  }
 },
 "nbformat": 4,
 "nbformat_minor": 0
}
