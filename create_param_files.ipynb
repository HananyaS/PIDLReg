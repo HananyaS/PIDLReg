{
 "cells": [
  {
   "cell_type": "code",
   "execution_count": 1,
   "metadata": {
    "collapsed": true,
    "ExecuteTime": {
     "end_time": "2023-09-12T10:06:42.631121466Z",
     "start_time": "2023-09-12T10:06:42.322530833Z"
    }
   },
   "outputs": [],
   "source": [
    "import os\n",
    "import json\n",
    "import pandas as pd"
   ]
  },
  {
   "cell_type": "code",
   "execution_count": 2,
   "outputs": [
    {
     "data": {
      "text/plain": "'/home/shachar/Desktop/PythonProjects/Lab/MVTrials/reg_model'"
     },
     "execution_count": 2,
     "metadata": {},
     "output_type": "execute_result"
    }
   ],
   "source": [
    "os.getcwd()"
   ],
   "metadata": {
    "collapsed": false,
    "ExecuteTime": {
     "end_time": "2023-09-12T10:06:42.642871197Z",
     "start_time": "2023-09-12T10:06:42.634360991Z"
    }
   }
  },
  {
   "cell_type": "code",
   "execution_count": 4,
   "outputs": [],
   "source": [
    "grid_res_dir = 'grid_search_results'"
   ],
   "metadata": {
    "collapsed": false,
    "ExecuteTime": {
     "end_time": "2023-09-12T10:06:53.311650492Z",
     "start_time": "2023-09-12T10:06:53.298621221Z"
    }
   }
  },
  {
   "cell_type": "code",
   "execution_count": 6,
   "outputs": [
    {
     "data": {
      "text/plain": "{'rmftsa_ctoarrivals': 'rmftsa_ctoarrivals_grid_val.csv',\n 'accent': 'accent_grid_val.csv',\n 'analcatdata_germangss': 'analcatdata_germangss_grid_val.csv',\n 'analcatdata_vineyard': 'analcatdata_vineyard_grid_val.csv',\n 'ecoli': 'ecoli_grid_val.csv',\n 'blood_transfusion': 'blood_transfusion_grid_val.csv',\n 'credit_approval': 'credit_approval_grid_val.csv',\n 'diabetes': 'diabetes_grid_val.csv',\n 'spam': 'spam_grid_val.csv',\n 'wifi': 'wifi_grid_val.csv',\n 'sonar': 'sonar_grid_val.csv',\n 'banknote': 'banknote_grid_val.csv',\n 'iris': 'iris_grid_val.csv',\n 'tokyo': 'tokyo_grid_val.csv',\n 'credit_g': 'credit_g_grid_val.csv',\n 'parkinson': 'parkinson_grid_val.csv',\n 'arsenic_male_bladder': 'arsenic_male_bladder_grid_val.csv',\n 'breast': 'breast_grid_val.csv',\n 'climate': 'climate_grid_val.csv',\n 'wine': 'wine_grid_val.csv'}"
     },
     "execution_count": 6,
     "metadata": {},
     "output_type": "execute_result"
    }
   ],
   "source": [
    "dataset_grid_res = {'_'.join(x.split('_')[:-2]): x for x in os.listdir(grid_res_dir) if\n",
    "                    x.endswith('.csv') and 'process' not in x}\n",
    "dataset_grid_res"
   ],
   "metadata": {
    "collapsed": false,
    "ExecuteTime": {
     "end_time": "2023-09-12T10:08:19.354851968Z",
     "start_time": "2023-09-12T10:08:19.313683441Z"
    }
   }
  },
  {
   "cell_type": "code",
   "execution_count": 12,
   "outputs": [],
   "source": [
    "os.makedirs(\"param_files/csv\", exist_ok=True)\n",
    "os.makedirs(\"param_files/json\", exist_ok=True)"
   ],
   "metadata": {
    "collapsed": false,
    "ExecuteTime": {
     "end_time": "2023-09-12T10:10:43.614515745Z",
     "start_time": "2023-09-12T10:10:43.604413547Z"
    }
   }
  },
  {
   "cell_type": "code",
   "execution_count": 13,
   "outputs": [
    {
     "data": {
      "text/plain": "              dataset  conf_num reg_type weight_type  alpha  use_layer_norm  \\\n0  Rmftsa_ctoarrivals         1       l1        None    0.5           False   \n1  Rmftsa_ctoarrivals         2       l1        None    0.5           False   \n2  Rmftsa_ctoarrivals         3       l1        None    0.5           False   \n3  Rmftsa_ctoarrivals         4       l1        None    0.5           False   \n4  Rmftsa_ctoarrivals         5       l1        None    0.5           False   \n\n   use_aug    lr  batch_size  train_full_score train_partial_score  \\\n0    False  0.01          32          0.964286      0.932 +- 0.059   \n1    False  0.01          64          0.970238      0.928 +- 0.062   \n2    False  0.10          32          0.940476      0.908 +- 0.056   \n3    False  0.10          64          0.916667      0.903 +- 0.058   \n4     True  0.01          32          0.946429      0.912 +- 0.056   \n\n   val_full_score val_partial_score  \n0        0.906977    0.891 +- 0.055  \n1        0.953488    0.891 +- 0.063  \n2        0.930233    0.894 +- 0.068  \n3        0.883721    0.877 +- 0.055  \n4        0.953488     0.918 +- 0.06  ",
      "text/html": "<div>\n<style scoped>\n    .dataframe tbody tr th:only-of-type {\n        vertical-align: middle;\n    }\n\n    .dataframe tbody tr th {\n        vertical-align: top;\n    }\n\n    .dataframe thead th {\n        text-align: right;\n    }\n</style>\n<table border=\"1\" class=\"dataframe\">\n  <thead>\n    <tr style=\"text-align: right;\">\n      <th></th>\n      <th>dataset</th>\n      <th>conf_num</th>\n      <th>reg_type</th>\n      <th>weight_type</th>\n      <th>alpha</th>\n      <th>use_layer_norm</th>\n      <th>use_aug</th>\n      <th>lr</th>\n      <th>batch_size</th>\n      <th>train_full_score</th>\n      <th>train_partial_score</th>\n      <th>val_full_score</th>\n      <th>val_partial_score</th>\n    </tr>\n  </thead>\n  <tbody>\n    <tr>\n      <th>0</th>\n      <td>Rmftsa_ctoarrivals</td>\n      <td>1</td>\n      <td>l1</td>\n      <td>None</td>\n      <td>0.5</td>\n      <td>False</td>\n      <td>False</td>\n      <td>0.01</td>\n      <td>32</td>\n      <td>0.964286</td>\n      <td>0.932 +- 0.059</td>\n      <td>0.906977</td>\n      <td>0.891 +- 0.055</td>\n    </tr>\n    <tr>\n      <th>1</th>\n      <td>Rmftsa_ctoarrivals</td>\n      <td>2</td>\n      <td>l1</td>\n      <td>None</td>\n      <td>0.5</td>\n      <td>False</td>\n      <td>False</td>\n      <td>0.01</td>\n      <td>64</td>\n      <td>0.970238</td>\n      <td>0.928 +- 0.062</td>\n      <td>0.953488</td>\n      <td>0.891 +- 0.063</td>\n    </tr>\n    <tr>\n      <th>2</th>\n      <td>Rmftsa_ctoarrivals</td>\n      <td>3</td>\n      <td>l1</td>\n      <td>None</td>\n      <td>0.5</td>\n      <td>False</td>\n      <td>False</td>\n      <td>0.10</td>\n      <td>32</td>\n      <td>0.940476</td>\n      <td>0.908 +- 0.056</td>\n      <td>0.930233</td>\n      <td>0.894 +- 0.068</td>\n    </tr>\n    <tr>\n      <th>3</th>\n      <td>Rmftsa_ctoarrivals</td>\n      <td>4</td>\n      <td>l1</td>\n      <td>None</td>\n      <td>0.5</td>\n      <td>False</td>\n      <td>False</td>\n      <td>0.10</td>\n      <td>64</td>\n      <td>0.916667</td>\n      <td>0.903 +- 0.058</td>\n      <td>0.883721</td>\n      <td>0.877 +- 0.055</td>\n    </tr>\n    <tr>\n      <th>4</th>\n      <td>Rmftsa_ctoarrivals</td>\n      <td>5</td>\n      <td>l1</td>\n      <td>None</td>\n      <td>0.5</td>\n      <td>False</td>\n      <td>True</td>\n      <td>0.01</td>\n      <td>32</td>\n      <td>0.946429</td>\n      <td>0.912 +- 0.056</td>\n      <td>0.953488</td>\n      <td>0.918 +- 0.06</td>\n    </tr>\n  </tbody>\n</table>\n</div>"
     },
     "execution_count": 13,
     "metadata": {},
     "output_type": "execute_result"
    }
   ],
   "source": [
    "df = pd.read_csv(os.path.join(grid_res_dir, list(dataset_grid_res.values())[0]))\n",
    "df.head()"
   ],
   "metadata": {
    "collapsed": false,
    "ExecuteTime": {
     "end_time": "2023-09-12T10:10:45.679082679Z",
     "start_time": "2023-09-12T10:10:45.654728080Z"
    }
   }
  },
  {
   "cell_type": "code",
   "execution_count": 14,
   "outputs": [],
   "source": [
    "for dataset, grid_res in dataset_grid_res.items():\n",
    "    df = pd.read_csv(os.path.join('grid_search_results', grid_res))\n",
    "    df[\"train_partial_scores_mean\"] = df[\"train_partial_score\"].apply(lambda x: float(x.split(\" +- \")[0]))\n",
    "    df[\"val_partial_scores_mean\"] = df[\"val_partial_score\"].apply(lambda x: float(x.split(\" +- \")[0]))\n",
    "\n",
    "    # df[\"full_score\"] = df[[\"train_full_score\", \"val_full_score\"]].min(axis=1)\n",
    "    # df[\"partial_scores_mean\"] = df[[\"train_partial_scores_mean\", \"val_partial_scores_mean\"]].min(axis=1)\n",
    "\n",
    "    df[\"train_diff_full_partial\"] = df[\"train_full_score\"] - df[\"train_partial_scores_mean\"]\n",
    "    df[\"val_diff_full_partial\"] = df[\"val_full_score\"] - df[\"val_partial_scores_mean\"]\n",
    "\n",
    "    df[\"diff_full_partial_min\"] = df[[\"train_diff_full_partial\", \"val_diff_full_partial\"]].min(axis=1)\n",
    "    df[\"partial_scores_mean_min\"] = df[[\"train_partial_scores_mean\", \"val_partial_scores_mean\"]].min(axis=1)\n",
    "\n",
    "    df.sort_values(by=\"diff_full_partial_min\", ascending=True, inplace=True, kind='stable')\n",
    "    df.sort_values(by=\"partial_scores_mean_min\", ascending=False, inplace=True, kind='stable')\n",
    "\n",
    "    # df.sort_values(by=\"val_diff_full_partial\", ascending=True, inplace=True, kind='stable')\n",
    "    # df.sort_values(by=\"val_partial_scores_mean\", ascending=False, inplace=True, kind='stable')\n",
    "    df.to_csv(os.path.join(\"param_files\", \"csv\", f\"{dataset}_params.csv\"), index=False)\n",
    "\n",
    "    # create params dict of reg_type\tweight_type\talpha\tuse_layer_norm\tuse_aug\tlr\tbatch_size\n",
    "\n",
    "    n_best_samples = 10\n",
    "\n",
    "    params = {\n",
    "        \"reg_type\": str(df.iloc[:n_best_samples][\"reg_type\"].mode().tolist()[0]),\n",
    "        \"weight_type\": str(df.iloc[:n_best_samples][\"weight_type\"].mode().tolist()[0]),\n",
    "        \"alpha\": float(df.iloc[:n_best_samples][\"alpha\"].mode().tolist()[0]),\n",
    "        \"use_layer_norm\": df.iloc[:n_best_samples][\"use_layer_norm\"].mode().tolist()[0],\n",
    "        # \"use_aug\": bool(df.iloc[0][\"use_aug\"]),\n",
    "        \"use_aug\": df.iloc[:n_best_samples][\"use_aug\"].mode().tolist()[0],\n",
    "        \"lr\": float(df.iloc[:n_best_samples][\"lr\"].mode().tolist()[0]),\n",
    "        \"batch_size\": int(df.iloc[:n_best_samples][\"batch_size\"].mode().tolist()[0]),\n",
    "    }\n",
    "\n",
    "    with open(os.path.join(\"param_files\", \"json\", f\"{dataset}_params.json\"), 'w') as f:\n",
    "        json.dump(params, f)\n"
   ],
   "metadata": {
    "collapsed": false,
    "ExecuteTime": {
     "end_time": "2023-09-12T10:11:16.646975289Z",
     "start_time": "2023-09-12T10:11:16.342579035Z"
    }
   }
  },
  {
   "cell_type": "code",
   "execution_count": 15,
   "outputs": [
    {
     "data": {
      "text/plain": "False"
     },
     "execution_count": 15,
     "metadata": {},
     "output_type": "execute_result"
    }
   ],
   "source": [
    "df.iloc[:5][\"use_layer_norm\"].mode().tolist()[0]"
   ],
   "metadata": {
    "collapsed": false,
    "ExecuteTime": {
     "end_time": "2023-09-12T10:12:05.471693579Z",
     "start_time": "2023-09-12T10:12:05.464417444Z"
    }
   }
  },
  {
   "cell_type": "code",
   "execution_count": 31,
   "outputs": [
    {
     "name": "stdout",
     "output_type": "stream",
     "text": [
      "python main_experimens.py --dataset Blood_transfusion --run_grid False --run_ts False --full_test True\n",
      "python main_experimens.py --dataset Ecoli --run_grid False --run_ts False --full_test True\n",
      "python main_experimens.py --dataset Arsenic_male_bladder --run_grid False --run_ts False --full_test True\n",
      "python main_experimens.py --dataset Tokyo --run_grid False --run_ts False --full_test True\n",
      "python main_experimens.py --dataset Spam --run_grid False --run_ts False --full_test True\n",
      "python main_experimens.py --dataset Analcatdata_vineyard --run_grid False --run_ts False --full_test True\n",
      "python main_experimens.py --dataset Diabetes --run_grid False --run_ts False --full_test True\n",
      "python main_experimens.py --dataset Sonar --run_grid False --run_ts False --full_test True\n",
      "python main_experimens.py --dataset Climate --run_grid False --run_ts False --full_test True\n",
      "python main_experimens.py --dataset Breast --run_grid False --run_ts False --full_test True\n",
      "python main_experimens.py --dataset Banknote --run_grid False --run_ts False --full_test True\n",
      "python main_experimens.py --dataset Iris --run_grid False --run_ts False --full_test True\n",
      "python main_experimens.py --dataset Wine --run_grid False --run_ts False --full_test True\n",
      "python main_experimens.py --dataset Parkinson --run_grid False --run_ts False --full_test True\n",
      "python main_experimens.py --dataset Accent --run_grid False --run_ts False --full_test True\n",
      "python main_experimens.py --dataset Credit_g --run_grid False --run_ts False --full_test True\n",
      "python main_experimens.py --dataset Credit_approval --run_grid False --run_ts False --full_test True\n",
      "python main_experimens.py --dataset Wifi --run_grid False --run_ts False --full_test True\n",
      "python main_experimens.py --dataset Analcatdata_germangss --run_grid False --run_ts False --full_test True\n",
      "python main_experimens.py --dataset Rmftsa_ctoarrivals --run_grid False --run_ts False --full_test True\n"
     ]
    }
   ],
   "source": [
    "if os.path.isfile(\"removal_test_commands\"):\n",
    "    os.remove(\"removal_test_commands\")\n",
    "\n",
    "for i, dataset in enumerate(os.listdir(\"param_files/json\")):\n",
    "    f = open(\"removal_test_commands\", 'w' if i == 0 else 'a')\n",
    "    dataset = \"_\".join(dataset.split(\"_\")[:-1])\n",
    "    f.write(f\"python main_experimens.py --dataset {dataset.capitalize()} --run_grid False --run_ts False --full_test True\\n\")\n",
    "\n",
    "f.close()\n",
    "\n",
    "# show commands\n",
    "with open(\"removal_test_commands\", 'r') as f:\n",
    "    print(f.read())"
   ],
   "metadata": {
    "collapsed": false,
    "ExecuteTime": {
     "end_time": "2023-09-12T10:19:02.892813623Z",
     "start_time": "2023-09-12T10:19:02.889226862Z"
    }
   }
  },
  {
   "cell_type": "code",
   "execution_count": 29,
   "outputs": [
    {
     "data": {
      "text/plain": "                      reg_type weight_type  alpha  use_layer_norm  use_aug  \\\nclimate                     l2         avg    0.5           False    False   \nbreast                      l1        None    0.0           False    False   \nbanknote                    l2        loss    0.5           False    False   \niris                        l2        mult    1.0            True    False   \nparkinson                  var         avg    1.0           False     True   \naccent                     var         avg    0.5           False     True   \ncredit_g                   max        None    0.5           False    False   \ncredit_approval             l2        None    0.5           False     True   \nanalcatdata_germangss       l1         avg    0.5           False     True   \nrmftsa_ctoarrivals          l1        None    0.5           False    False   \n\n                          lr  batch_size  \nclimate                0.010          32  \nbreast                 0.010          32  \nbanknote               0.100          64  \niris                   0.100          32  \nparkinson              0.001          64  \naccent                 0.010          64  \ncredit_g               0.010          32  \ncredit_approval        0.100          32  \nanalcatdata_germangss  0.010          32  \nrmftsa_ctoarrivals     0.010          32  ",
      "text/html": "<div>\n<style scoped>\n    .dataframe tbody tr th:only-of-type {\n        vertical-align: middle;\n    }\n\n    .dataframe tbody tr th {\n        vertical-align: top;\n    }\n\n    .dataframe thead th {\n        text-align: right;\n    }\n</style>\n<table border=\"1\" class=\"dataframe\">\n  <thead>\n    <tr style=\"text-align: right;\">\n      <th></th>\n      <th>reg_type</th>\n      <th>weight_type</th>\n      <th>alpha</th>\n      <th>use_layer_norm</th>\n      <th>use_aug</th>\n      <th>lr</th>\n      <th>batch_size</th>\n    </tr>\n  </thead>\n  <tbody>\n    <tr>\n      <th>climate</th>\n      <td>l2</td>\n      <td>avg</td>\n      <td>0.5</td>\n      <td>False</td>\n      <td>False</td>\n      <td>0.010</td>\n      <td>32</td>\n    </tr>\n    <tr>\n      <th>breast</th>\n      <td>l1</td>\n      <td>None</td>\n      <td>0.0</td>\n      <td>False</td>\n      <td>False</td>\n      <td>0.010</td>\n      <td>32</td>\n    </tr>\n    <tr>\n      <th>banknote</th>\n      <td>l2</td>\n      <td>loss</td>\n      <td>0.5</td>\n      <td>False</td>\n      <td>False</td>\n      <td>0.100</td>\n      <td>64</td>\n    </tr>\n    <tr>\n      <th>iris</th>\n      <td>l2</td>\n      <td>mult</td>\n      <td>1.0</td>\n      <td>True</td>\n      <td>False</td>\n      <td>0.100</td>\n      <td>32</td>\n    </tr>\n    <tr>\n      <th>parkinson</th>\n      <td>var</td>\n      <td>avg</td>\n      <td>1.0</td>\n      <td>False</td>\n      <td>True</td>\n      <td>0.001</td>\n      <td>64</td>\n    </tr>\n    <tr>\n      <th>accent</th>\n      <td>var</td>\n      <td>avg</td>\n      <td>0.5</td>\n      <td>False</td>\n      <td>True</td>\n      <td>0.010</td>\n      <td>64</td>\n    </tr>\n    <tr>\n      <th>credit_g</th>\n      <td>max</td>\n      <td>None</td>\n      <td>0.5</td>\n      <td>False</td>\n      <td>False</td>\n      <td>0.010</td>\n      <td>32</td>\n    </tr>\n    <tr>\n      <th>credit_approval</th>\n      <td>l2</td>\n      <td>None</td>\n      <td>0.5</td>\n      <td>False</td>\n      <td>True</td>\n      <td>0.100</td>\n      <td>32</td>\n    </tr>\n    <tr>\n      <th>analcatdata_germangss</th>\n      <td>l1</td>\n      <td>avg</td>\n      <td>0.5</td>\n      <td>False</td>\n      <td>True</td>\n      <td>0.010</td>\n      <td>32</td>\n    </tr>\n    <tr>\n      <th>rmftsa_ctoarrivals</th>\n      <td>l1</td>\n      <td>None</td>\n      <td>0.5</td>\n      <td>False</td>\n      <td>False</td>\n      <td>0.010</td>\n      <td>32</td>\n    </tr>\n  </tbody>\n</table>\n</div>"
     },
     "execution_count": 29,
     "metadata": {},
     "output_type": "execute_result"
    }
   ],
   "source": [
    "# load all params files to one df\n",
    "\n",
    "df = pd.DataFrame()\n",
    "\n",
    "for dataset in os.listdir(\"param_files/json\"):\n",
    "    if dataset.endswith(\".json\"):\n",
    "        dataset = \"_\".join(dataset.split(\"_\")[:-1])\n",
    "\n",
    "        if dataset.lower() in ['wifi', 'wine']:\n",
    "            continue\n",
    "\n",
    "        with open(os.path.join(\"param_files\", \"json\", dataset + \"_params.json\"), 'r') as f:\n",
    "            params = json.load(f)\n",
    "        \n",
    "        df = df.append(pd.DataFrame(params, index=[dataset]))\n",
    "\n",
    "df.tail(10)"
   ],
   "metadata": {
    "collapsed": false,
    "ExecuteTime": {
     "end_time": "2023-09-12T10:16:10.034080386Z",
     "start_time": "2023-09-12T10:16:09.994149756Z"
    }
   }
  },
  {
   "cell_type": "code",
   "execution_count": 37,
   "outputs": [],
   "source": [],
   "metadata": {
    "collapsed": false,
    "ExecuteTime": {
     "end_time": "2023-07-06T11:47:10.466381495Z",
     "start_time": "2023-07-06T11:47:10.444979680Z"
    }
   }
  },
  {
   "cell_type": "code",
   "execution_count": null,
   "outputs": [],
   "source": [],
   "metadata": {
    "collapsed": false
   }
  }
 ],
 "metadata": {
  "kernelspec": {
   "display_name": "Python 3",
   "language": "python",
   "name": "python3"
  },
  "language_info": {
   "codemirror_mode": {
    "name": "ipython",
    "version": 2
   },
   "file_extension": ".py",
   "mimetype": "text/x-python",
   "name": "python",
   "nbconvert_exporter": "python",
   "pygments_lexer": "ipython2",
   "version": "2.7.6"
  }
 },
 "nbformat": 4,
 "nbformat_minor": 0
}
